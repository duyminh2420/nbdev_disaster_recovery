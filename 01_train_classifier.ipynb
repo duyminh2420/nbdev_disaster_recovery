{
 "cells": [
  {
   "cell_type": "code",
   "execution_count": null,
   "id": "aa72c648",
   "metadata": {},
   "outputs": [],
   "source": [
    "# default_exp train_classifier"
   ]
  },
  {
   "cell_type": "markdown",
   "id": "febe3010",
   "metadata": {},
   "source": [
    "# Overview training dataset"
   ]
  },
  {
   "cell_type": "code",
   "execution_count": null,
   "id": "a1e4d100",
   "metadata": {},
   "outputs": [
    {
     "name": "stderr",
     "output_type": "stream",
     "text": [
      "[nltk_data] Downloading package punkt to\n",
      "[nltk_data]     /Users/duyminhpham/nltk_data...\n",
      "[nltk_data]   Package punkt is already up-to-date!\n",
      "[nltk_data] Downloading package wordnet to\n",
      "[nltk_data]     /Users/duyminhpham/nltk_data...\n",
      "[nltk_data]   Package wordnet is already up-to-date!\n"
     ]
    }
   ],
   "source": [
    "# export\n",
    "import sys\n",
    "# import libraries\n",
    "import pandas as pd\n",
    "import sqlalchemy as db\n",
    "import nltk\n",
    "nltk.download(['punkt', 'wordnet'])\n",
    "from nltk.corpus import stopwords\n",
    "from nltk.tokenize import word_tokenize\n",
    "from nltk.stem import WordNetLemmatizer\n",
    "\n",
    "\n",
    "import numpy as np\n",
    "\n",
    "import warnings\n",
    "warnings.filterwarnings('ignore')\n",
    "import pickle\n",
    "\n",
    "from sklearn.pipeline import Pipeline\n",
    "from sklearn.metrics import confusion_matrix\n",
    "from sklearn.linear_model import SGDClassifier\n",
    "from sklearn.model_selection import GridSearchCV\n",
    "from sklearn.model_selection import train_test_split\n",
    "from sklearn.ensemble import RandomForestClassifier\n",
    "from sklearn.feature_extraction.text import CountVectorizer, TfidfTransformer\n",
    "from sklearn.multioutput import MultiOutputClassifier\n",
    "from sklearn.multiclass import OneVsRestClassifier\n",
    "from sklearn.linear_model import LogisticRegression\n",
    "from sklearn.metrics import accuracy_score, f1_score, precision_score, recall_score, classification_report, confusion_matrix\n"
   ]
  },
  {
   "cell_type": "code",
   "execution_count": null,
   "id": "89f65c1f",
   "metadata": {},
   "outputs": [],
   "source": [
    "# export\n",
    "def load_data(database_filepath):\n",
    "    engine = db.create_engine('sqlite:///'+database_filepath)\n",
    "    df=pd.read_sql_query(\"SELECT * FROM tweets;\", engine)\n",
    "    X = df['message']\n",
    "    y = df.drop(['id','categories','message','original','genre'], axis=1)\n",
    "    y_cols= y.columns.tolist()\n",
    "    return X,y,y_cols"
   ]
  },
  {
   "cell_type": "code",
   "execution_count": null,
   "id": "2f98bfb1",
   "metadata": {},
   "outputs": [],
   "source": [
    "# export\n",
    "def tokenize(example_sent):\n",
    "    example_sent = example_sent.lower()\n",
    "    stop_words = set(stopwords.words('english'))\n",
    "    word_tokens = word_tokenize(example_sent)\n",
    "    filtered_sentence = [w for w in word_tokens if not w in stop_words]\n",
    "    wordnet_lemmatizer = WordNetLemmatizer()\n",
    "    filtered_Lemm_sentence = [wordnet_lemmatizer.lemmatize(w).strip() for w in filtered_sentence]\n",
    "    return filtered_Lemm_sentence"
   ]
  },
  {
   "cell_type": "code",
   "execution_count": null,
   "id": "2708b9af",
   "metadata": {},
   "outputs": [],
   "source": [
    "# export\n",
    "def build_model():\n",
    "    RndmFrst_pipeline = Pipeline([\n",
    "        ('vect', CountVectorizer(tokenizer=tokenize)),\n",
    "        ('tfidf', TfidfTransformer()),\n",
    "        ('clf', MultiOutputClassifier(RandomForestClassifier(),n_jobs=20))\n",
    "    ])    \n",
    "    return RndmFrst_pipeline\n",
    "       \n"
   ]
  },
  {
   "cell_type": "code",
   "execution_count": null,
   "id": "3c3d534f",
   "metadata": {},
   "outputs": [],
   "source": [
    "# export\n",
    "def evaluate_model(model, X_test, y_test, category_names):\n",
    "    prediction = model.predict(X_test)\n",
    "    for i, cat in enumerate(category_names):\n",
    "        print(i, cat)\n",
    "        print('------')\n",
    "        print(classification_report(y_true= y_test[cat].values.reshape(-1,1), y_pred=prediction[:,i].reshape(-1,1)))\n",
    "        print('------')\n",
    "        pa"
   ]
  },
  {
   "cell_type": "code",
   "execution_count": null,
   "id": "c5e073b0",
   "metadata": {},
   "outputs": [],
   "source": [
    "# export\n",
    "def save_model(model, model_filepath):\n",
    "    filehandler = open(model_filepath,\"wb\")\n",
    "    pickle.dump(model,filehandler)\n"
   ]
  },
  {
   "cell_type": "code",
   "execution_count": null,
   "id": "ce5a30bf",
   "metadata": {},
   "outputs": [],
   "source": [
    "# export\n",
    "def main():\n",
    "    if len(sys.argv) == 3:\n",
    "        database_filepath, model_filepath = sys.argv[1:]\n",
    "        print('Loading data...\\n    DATABASE: {}'.format(database_filepath))\n",
    "        X, Y, category_names = load_data(database_filepath)\n",
    "        X_train, X_test, Y_train, Y_test = train_test_split(X, Y, test_size=0.2)\n",
    "        \n",
    "        print('Building model...')\n",
    "        model = build_model()\n",
    "        \n",
    "        print('Training model...')\n",
    "        model.fit(X_train, Y_train)\n",
    "        \n",
    "        print('Evaluating model...')\n",
    "        evaluate_model(model, X_test, Y_test, category_names)\n",
    "\n",
    "        print('Saving model...\\n    MODEL: {}'.format(model_filepath))\n",
    "        save_model(model, model_filepath)\n",
    "\n",
    "        print('Trained model saved!')\n",
    "\n",
    "    else:\n",
    "        print('Please provide the filepath of the disaster messages database '\\\n",
    "              'as the first argument and the filepath of the pickle file to '\\\n",
    "              'save the model to as the second argument. \\n\\nExample: python '\\\n",
    "              'train_classifier.py ../data/DisasterResponse.db classifier.pkl')\n",
    "\n"
   ]
  },
  {
   "cell_type": "code",
   "execution_count": null,
   "id": "09572f42",
   "metadata": {},
   "outputs": [],
   "source": [
    "# if __name__ == '__main__':\n",
    "#     main()"
   ]
  },
  {
   "cell_type": "code",
   "execution_count": null,
   "id": "ba65a338",
   "metadata": {},
   "outputs": [],
   "source": []
  },
  {
   "cell_type": "code",
   "execution_count": null,
   "id": "864766f4",
   "metadata": {},
   "outputs": [],
   "source": []
  }
 ],
 "metadata": {
  "kernelspec": {
   "display_name": "Python 3 (ipykernel)",
   "language": "python",
   "name": "python3"
  }
 },
 "nbformat": 4,
 "nbformat_minor": 5
}
