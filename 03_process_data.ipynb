{
 "cells": [
  {
   "cell_type": "code",
   "execution_count": null,
   "id": "94b2d2e1",
   "metadata": {},
   "outputs": [],
   "source": [
    "# default_exp process_data"
   ]
  },
  {
   "cell_type": "code",
   "execution_count": null,
   "id": "04f395da",
   "metadata": {},
   "outputs": [],
   "source": [
    "# export\n",
    "import sys\n",
    "import pandas as pd\n",
    "import sqlalchemy as db\n"
   ]
  },
  {
   "cell_type": "code",
   "execution_count": null,
   "id": "9856638a",
   "metadata": {},
   "outputs": [],
   "source": [
    "# export\n",
    "def load_data(messages_filepath, categories_filepath):\n",
    "    messages = pd.read_csv(messages_filepath)\n",
    "    categories = pd.read_csv(categories_filepath)\n",
    "    df = messages.merge(categories, left_on='id', right_on='id', how='inner')\n",
    "    return df\n"
   ]
  },
  {
   "cell_type": "code",
   "execution_count": null,
   "id": "dc090782",
   "metadata": {},
   "outputs": [],
   "source": [
    "# export\n",
    "def clean_data(df):\n",
    "    # create a dataframe of the 36 individual category columns\n",
    "    categories = df['categories'].str.split(pat=';',expand=True)\n",
    "    category_colnames=categories.iloc[0].str.split(pat='-',expand=True)[0].tolist()\n",
    "    # rename the columns of `categories`\n",
    "    categories.columns = category_colnames\n",
    "\n",
    "    categories=categories.applymap(lambda x: x.split(\"-\",1)[1])\n",
    "    categories=categories.applymap(lambda x: int(x))\n",
    "\n",
    "    # concatenate the original dataframe with the new `categories` dataframe\n",
    "    df = df.join(categories)\n",
    "    # drop duplicates\n",
    "    df.drop_duplicates(subset=None, keep='first', inplace=True)\n",
    "    return df\n"
   ]
  },
  {
   "cell_type": "code",
   "execution_count": null,
   "id": "af7928d1",
   "metadata": {},
   "outputs": [],
   "source": [
    "# export\n",
    "def save_data(df, database_filename):\n",
    "    engine = db.create_engine('sqlite:///'+database_filename)\n",
    "    df.to_sql('tweets', engine, index=False, if_exists='replace') \n"
   ]
  },
  {
   "cell_type": "code",
   "execution_count": null,
   "id": "863f0501",
   "metadata": {},
   "outputs": [],
   "source": [
    "# export\n",
    "def main():\n",
    "    if len(sys.argv) == 4:\n",
    "\n",
    "        messages_filepath, categories_filepath, database_filepath = sys.argv[1:]\n",
    "\n",
    "        print('Loading data...\\n    MESSAGES: {}\\n    CATEGORIES: {}'\n",
    "              .format(messages_filepath, categories_filepath))\n",
    "        df = load_data(messages_filepath, categories_filepath)\n",
    "\n",
    "        print('Cleaning data...')\n",
    "        df = clean_data(df)\n",
    "        \n",
    "        print('Saving data...\\n    DATABASE: {}'.format(database_filepath))\n",
    "        save_data(df, database_filepath)\n",
    "        \n",
    "        print('Cleaned data saved to database!')\n",
    "    \n",
    "    else:\n",
    "        print('Please provide the filepaths of the messages and categories '\\\n",
    "              'datasets as the first and second argument respectively, as '\\\n",
    "              'well as the filepath of the database to save the cleaned data '\\\n",
    "              'to as the third argument. \\n\\nExample: python process_data.py '\\\n",
    "              'disaster_messages.csv disaster_categories.csv '\\\n",
    "              'DisasterResponse.db')\n",
    "\n"
   ]
  },
  {
   "cell_type": "code",
   "execution_count": null,
   "id": "85d39aee",
   "metadata": {},
   "outputs": [],
   "source": [
    "# if __name__ == '__main__':\n",
    "#     main()"
   ]
  },
  {
   "cell_type": "code",
   "execution_count": null,
   "id": "aae9f8a6",
   "metadata": {},
   "outputs": [],
   "source": []
  },
  {
   "cell_type": "code",
   "execution_count": null,
   "id": "d3652da8",
   "metadata": {},
   "outputs": [],
   "source": []
  },
  {
   "cell_type": "code",
   "execution_count": null,
   "id": "24380dee",
   "metadata": {},
   "outputs": [],
   "source": []
  },
  {
   "cell_type": "code",
   "execution_count": null,
   "id": "d019392b",
   "metadata": {},
   "outputs": [],
   "source": []
  }
 ],
 "metadata": {
  "kernelspec": {
   "display_name": "Python 3 (ipykernel)",
   "language": "python",
   "name": "python3"
  }
 },
 "nbformat": 4,
 "nbformat_minor": 5
}
